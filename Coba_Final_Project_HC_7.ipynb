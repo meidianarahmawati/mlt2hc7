{
  "nbformat": 4,
  "nbformat_minor": 0,
  "metadata": {
    "colab": {
      "name": "Coba Final Project HC-7.ipynb",
      "provenance": [],
      "authorship_tag": "ABX9TyPtwZOkrGkn4IyiKNTUddzc",
      "include_colab_link": true
    },
    "kernelspec": {
      "name": "python3",
      "display_name": "Python 3"
    },
    "language_info": {
      "name": "python"
    }
  },
  "cells": [
    {
      "cell_type": "markdown",
      "metadata": {
        "id": "view-in-github",
        "colab_type": "text"
      },
      "source": [
        "<a href=\"https://colab.research.google.com/github/meidianarahmawati/mlt2hc7/blob/indahskr/Coba_Final_Project_HC_7.ipynb\" target=\"_parent\"><img src=\"https://colab.research.google.com/assets/colab-badge.svg\" alt=\"Open In Colab\"/></a>"
      ]
    },
    {
      "cell_type": "markdown",
      "source": [
        "# Final Project Kelompok Healthcare 7 "
      ],
      "metadata": {
        "id": "M-ESR7sOXQ0V"
      }
    },
    {
      "cell_type": "markdown",
      "source": [
        "## Dataset"
      ],
      "metadata": {
        "id": "Y7JOAx3gXUcq"
      }
    },
    {
      "cell_type": "code",
      "source": [
        ""
      ],
      "metadata": {
        "id": "BdWjYVijXTVx"
      },
      "execution_count": null,
      "outputs": []
    }
  ]
}